{
 "cells": [
  {
   "cell_type": "code",
   "execution_count": 1,
   "metadata": {},
   "outputs": [],
   "source": [
    "import os\n",
    "import librosa\n",
    "import timeit\n",
    "\n",
    "import torch\n",
    "import torch.nn as nn\n",
    "import torch.optim as optim\n",
    "import torch.nn.functional as F\n",
    "import torchvision\n",
    "if torch.cuda.is_available():\n",
    "    device=torch.device('cuda:0')\n",
    "else:\n",
    "    device=torch.device('cpu')\n",
    "\n",
    "from plotly import graph_objs as go\n",
    "from plotly.subplots import make_subplots\n",
    "from sklearn.model_selection import train_test_split\n",
    "from sklearn.metrics import accuracy_score\n",
    "\n",
    "from tqdm.notebook import tqdm\n",
    "from matplotlib import pyplot as plt\n",
    "import numpy as np\n",
    "import pandas as pd\n",
    "from IPython.display import HTML, Audio, display_html, clear_output\n",
    "sr = 16000\n",
    "batch_size = 32"
   ]
  },
  {
   "cell_type": "markdown",
   "metadata": {},
   "source": [
    "# Load data\n",
    "We are testing the model on 10% of the train data. For this purpose we can load all the data to RAM. Later we will train a model on the full data where we will have to handle data loading inside the DataLoader."
   ]
  },
  {
   "cell_type": "code",
   "execution_count": 2,
   "metadata": {},
   "outputs": [],
   "source": [
    "ROOT_DIR = \"D:\\\\Projects\\\\silero-audio-classification\"\n",
    "PERCENT = 10 # take PERCENT% of the data"
   ]
  },
  {
   "cell_type": "code",
   "execution_count": 3,
   "metadata": {},
   "outputs": [],
   "source": [
    "def load_train_val(ROOT_DIR):\n",
    "    train, val = train_test_split(pd.read_csv(\"train.csv\"))\n",
    "    return train, val"
   ]
  },
  {
   "cell_type": "code",
   "execution_count": 4,
   "metadata": {},
   "outputs": [
    {
     "name": "stdout",
     "output_type": "stream",
     "text": [
      "        Unnamed: 0             wav_path   label  target\n",
      "180003      180003  train/9/53d07af.wav   noise       2\n",
      "142078      142078  train/e/150099e.wav  speech       0\n",
      "217976      217976  train/a/6ef577b.wav   music       1\n",
      "78879        78879  train/3/a28c181.wav   music       1\n",
      "252235      252235  train/e/10ba136.wav  speech       0\n",
      "--------------------------------------------------\n",
      "3 target classes found:\n",
      "{2: 'noise', 0: 'speech', 1: 'music'}\n"
     ]
    }
   ],
   "source": [
    "train, val = load_train_val(ROOT_DIR)\n",
    "\n",
    "train = train[:len(train)*PERCENT//100]\n",
    "val = val[:len(val)*PERCENT//100]\n",
    "print(train.head(), end=\"\\n\" + \"-\"*50 + \"\\n\")\n",
    "target_to_text = {elem: name for name, elem in zip(train[\"label\"].unique(), train[\"target\"].unique())}\n",
    "N = len(target_to_text)\n",
    "print(f\"{N} target classes found:\")\n",
    "print(target_to_text)"
   ]
  },
  {
   "cell_type": "code",
   "execution_count": 5,
   "metadata": {},
   "outputs": [],
   "source": [
    "def process_wav(ROOT_DIR, filepath):\n",
    "    path = ROOT_DIR + '\\\\' + filepath\n",
    "    wav, _ = librosa.load(path, sr=sr)\n",
    "    melspec = librosa.feature.melspectrogram(wav, sr=sr)\n",
    "    freq = melspec.sum(axis=1)\n",
    "    freqdb = torch.from_numpy(librosa.power_to_db(freq)).to(device)\n",
    "    mean = freqdb.mean()\n",
    "    std = freqdb.std()\n",
    "    eps = 1e-6\n",
    "    freq_norm = (freqdb - mean) / (std + eps)\n",
    "    freq_min, freq_max = freq_norm.min(), freq_norm.max()\n",
    "    freq_scaled = 255 * (freq_norm - freq_min) / (freq_max - freq_min)\n",
    "    freq = freq_scaled.float().cpu()\n",
    "    return freq"
   ]
  },
  {
   "cell_type": "code",
   "execution_count": 6,
   "metadata": {},
   "outputs": [
    {
     "data": {
      "image/png": "[encoded data removed]",
      "text/plain": [
       "<Figure size 720x720 with 10 Axes>"
      ]
     },
     "metadata": {
      "needs_background": "light"
     },
     "output_type": "display_data"
    }
   ],
   "source": [
    "fig, ax = plt.subplots(1, 10, figsize=(10, 10))\n",
    "for i, row in enumerate(train.sample(10).values):\n",
    "    filepath, label = row[1], row[2]\n",
    "    freq = process_wav(ROOT_DIR, filepath)\n",
    "    ax[i].imshow(freq.unsqueeze(1))\n",
    "    ax[i].set_title(f\"{label}\")\n",
    "# fig.tight_layout()"
   ]
  },
  {
   "cell_type": "code",
   "execution_count": 7,
   "metadata": {},
   "outputs": [],
   "source": [
    "class FreqDataset(torch.utils.data.Dataset):\n",
    "    def __init__(self, data):\n",
    "        self.data = [[], []]\n",
    "        for filename, target in tqdm(zip(data[\"wav_path\"], data[\"target\"]), total=len(data)):\n",
    "            target_ = torch.tensor(target).long()\n",
    "            freq = process_wav(ROOT_DIR, filename).unsqueeze(0)\n",
    "            self.data[0].append(freq)\n",
    "            self.data[1].append(target_)\n",
    "        \n",
    "    def __getitem__(self, index):\n",
    "        return self.data[0][index], self.data[1][index]\n",
    "    \n",
    "    def __len__(self):\n",
    "        assert len(self.data[0]) == len(self.data[1])\n",
    "        return len(self.data[0])"
   ]
  },
  {
   "cell_type": "code",
   "execution_count": 8,
   "metadata": {},
   "outputs": [
    {
     "data": {
      "application/vnd.jupyter.widget-view+json": {
       "model_id": "69bb5929d8f741f18f5ddd0643cf517b",
       "version_major": 2,
       "version_minor": 0
      },
      "text/plain": [
       "HBox(children=(FloatProgress(value=0.0, max=20475.0), HTML(value='')))"
      ]
     },
     "metadata": {},
     "output_type": "display_data"
    },
    {
     "name": "stdout",
     "output_type": "stream",
     "text": [
      "\n"
     ]
    },
    {
     "data": {
      "application/vnd.jupyter.widget-view+json": {
       "model_id": "fac8fca3c6bf410ab88b7350b9ad7189",
       "version_major": 2,
       "version_minor": 0
      },
      "text/plain": [
       "HBox(children=(FloatProgress(value=0.0, max=6825.0), HTML(value='')))"
      ]
     },
     "metadata": {},
     "output_type": "display_data"
    },
    {
     "name": "stdout",
     "output_type": "stream",
     "text": [
      "\n"
     ]
    }
   ],
   "source": [
    "train_dataset = FreqDataset(train)\n",
    "train_dataloader = torch.utils.data.DataLoader(train_dataset, batch_size=32, drop_last=True)\n",
    "validation_dataset = FreqDataset(val)\n",
    "validation_dataloader = torch.utils.data.DataLoader(validation_dataset, batch_size=32, drop_last=True)"
   ]
  },
  {
   "cell_type": "code",
   "execution_count": 9,
   "metadata": {},
   "outputs": [
    {
     "name": "stdout",
     "output_type": "stream",
     "text": [
      "<class 'torch.Tensor'> torch.Size([32, 1, 128])\n",
      "<class 'torch.Tensor'> torch.Size([32])\n"
     ]
    }
   ],
   "source": [
    "batch_X_train, batch_y_train = next(iter(train_dataloader))\n",
    "print(type(batch_X_train), batch_X_train.shape)\n",
    "print(type(batch_y_train), batch_y_train.shape)"
   ]
  },
  {
   "cell_type": "code",
   "execution_count": 10,
   "metadata": {},
   "outputs": [],
   "source": [
    "import torch.nn as nn\n",
    "import torch.nn.functional as F\n",
    "\n",
    "\n",
    "class FreqNet(nn.Module):\n",
    "    # big model\n",
    "    def __init__(self, N):\n",
    "        super(FreqNet, self).__init__()\n",
    "        # head\n",
    "        self.conv = nn.Conv1d(1, 64, 4, stride=2)\n",
    "        self.batchnorm = nn.BatchNorm1d(64, eps=1e-05, momentum=0.1, affine=True, track_running_stats=True)\n",
    "        self.relu = nn.ReLU(inplace=True)\n",
    "        self.maxpool = nn.MaxPool1d(kernel_size=4, stride=2, padding=1, dilation=1, ceil_mode=False)\n",
    "\n",
    "        # block 1\n",
    "        self.conv1_1 = nn.Conv1d(64, 64, kernel_size=3, stride=1, padding=1, bias=False)\n",
    "        self.drop1_1 = nn.Dropout(0.2)\n",
    "        self.batchnorm1_1 = nn.BatchNorm1d(64, eps=1e-05, momentum=0.1, affine=True, track_running_stats=True)\n",
    "        self.relu_1 = nn.ReLU(inplace=True)\n",
    "        self.conv2_1 = nn.Conv1d(64, 64, kernel_size=3, stride=1, padding=1, bias=False)\n",
    "        self.batchnorm2_1 = nn.BatchNorm1d(64, eps=1e-05, momentum=0.1, affine=True, track_running_stats=True)\n",
    "\n",
    "        # block 2\n",
    "        self.conv1_2 = nn.Conv1d(64, 128, kernel_size=3, stride=1, padding=1, bias=False)\n",
    "        self.drop1_2 = nn.Dropout(0.2)\n",
    "        self.batchnorm1_2 = nn.BatchNorm1d(128, eps=1e-05, momentum=0.1, affine=True, track_running_stats=True)\n",
    "        self.relu_2 = nn.ReLU(inplace=True)\n",
    "        self.conv2_2 = nn.Conv1d(128, 128, kernel_size=3, stride=1, padding=1, bias=False)\n",
    "        self.batchnorm2_2 = nn.BatchNorm1d(128, eps=1e-05, momentum=0.1, affine=True, track_running_stats=True)\n",
    "        self.conv3_2 = nn.Conv1d(64, 128, kernel_size=1, stride=2, padding=1, bias=False)\n",
    "        self.batchnorm2_2 = nn.BatchNorm1d(128, eps=1e-05, momentum=0.1, affine=True, track_running_stats=True)\n",
    "\n",
    "        # block 3\n",
    "#         self.conv1_3 = nn.Conv1d(128, 256, kernel_size=3, stride=1, padding=1, bias=False)\n",
    "#         self.drop1_3 = nn.Dropout(0.2)\n",
    "#         self.batchnorm1_3 = nn.BatchNorm1d(256, eps=1e-05, momentum=0.1, affine=True, track_running_stats=True)\n",
    "#         self.relu_3 = nn.ReLU(inplace=True)\n",
    "#         self.conv2_3 = nn.Conv1d(256, 256, kernel_size=3, stride=1, padding=1, bias=False)\n",
    "#         self.batchnorm2_3 = nn.BatchNorm1d(256, eps=1e-05, momentum=0.1, affine=True, track_running_stats=True)\n",
    "#         self.conv3_3 = nn.Conv2d(128, 256, kernel_size=1, stride=2, padding=1, bias=False)\n",
    "#         self.batchnorm2_3 = nn.BatchNorm1d(256, eps=1e-05, momentum=0.1, affine=True, track_running_stats=True)\n",
    "        \n",
    "#         # block 3\n",
    "#         self.conv1_4 = nn.Conv1d(256, 512, kernel_size=3, stride=1, padding=1, bias=False)\n",
    "#         self.drop1_4 = nn.Dropout(0.2)\n",
    "#         self.batchnorm1_4 = nn.BatchNorm1d(512, eps=1e-05, momentum=0.1, affine=True, track_running_stats=True)\n",
    "#         self.relu_4 = nn.ReLU(inplace=True)\n",
    "#         self.conv2_4 = nn.Conv1d(512, 512, kernel_size=3, stride=1, padding=1, bias=False)\n",
    "#         self.batchnorm2_4 = nn.BatchNorm1d(512, eps=1e-05, momentum=0.1, affine=True, track_running_stats=True)\n",
    "#         self.conv3_4 = nn.Conv2d(256, 512, kernel_size=1, stride=2, padding=1, bias=False)\n",
    "#         self.batchnorm2_4 = nn.BatchNorm1d(512, eps=1e-05, momentum=0.1, affine=True, track_running_stats=True)\n",
    "\n",
    "        self.finalpool = nn.AdaptiveAvgPool1d(output_size=1)\n",
    "        self.linear = nn.Linear(128, N, bias=False)\n",
    "\n",
    "    def forward(self, x):\n",
    "        batch_size = x.size(0)\n",
    "        x = x.to(device)\n",
    "        # head\n",
    "        x = self.conv(x)\n",
    "        x = self.batchnorm(x)\n",
    "        x = self.relu(x)\n",
    "        x = self.maxpool(x)\n",
    "\n",
    "        # block 1\n",
    "        x_remember = x.clone()\n",
    "        x = self.conv1_1(x)\n",
    "        x = self.drop1_1(x)\n",
    "        x = self.batchnorm1_1(x)\n",
    "        x = self.relu_1(x)\n",
    "        x = self.conv2_1(x)\n",
    "        x = self.batchnorm2_1(x)\n",
    "        \n",
    "        x = x + x_remember\n",
    "        x = F.relu(x)\n",
    "\n",
    "        # block 2\n",
    "        x_remember = x.clone()\n",
    "        x = self.conv1_2(x)\n",
    "        x = self.drop1_2(x)\n",
    "        x = self.batchnorm1_2(x)\n",
    "        x = self.relu_2(x)\n",
    "        x = self.conv2_2(x)\n",
    "        x = self.batchnorm2_2(x)\n",
    "        x = x + F.pad(x_remember, [0, 0, 32, 32, 0, 0])\n",
    "        x = F.relu(x)\n",
    "\n",
    "#         # block 3\n",
    "#         x_remember = x.clone()\n",
    "#         x = self.conv1_3(x)\n",
    "#         x = self.drop1_3(x)\n",
    "#         x = self.batchnorm1_3(x)\n",
    "#         x = self.relu_3(x)\n",
    "#         x = self.conv2_3(x)\n",
    "#         x = self.batchnorm2_3(x)\n",
    "#         x = x + F.pad(x_remember, [0, 0, 64, 64, 0, 0])\n",
    "#         x = F.relu(x)\n",
    "        \n",
    "#         # block 4\n",
    "#         x_remember = x.clone()\n",
    "#         x = self.conv1_4(x)\n",
    "#         x = self.drop1_4(x)\n",
    "#         x = self.batchnorm1_4(x)\n",
    "#         x = self.relu_4(x)\n",
    "#         x = self.conv2_4(x)\n",
    "#         x = self.batchnorm2_4(x)\n",
    "#         x = x + F.pad(x_remember, [0, 0, 128, 128, 0, 0])\n",
    "#         x = F.relu(x)\n",
    "\n",
    "        # end\n",
    "        x = self.finalpool(x)\n",
    "        #         print(x.shape)\n",
    "        x = self.linear(x.view(batch_size, -1))\n",
    "        #         x = F.log_softmax(x, dim=1)\n",
    "\n",
    "        return x\n",
    "    \n",
    "\n",
    "import torch.nn as nn\n",
    "import torch.nn.functional as F\n",
    "\n",
    "\n",
    "class FreqSimpleNet(nn.Module):\n",
    "    # small model\n",
    "    def __init__(self, N):\n",
    "        super(FreqSimpleNet, self).__init__()\n",
    "        # head\n",
    "        self.conv = nn.Conv1d(1, 64, 7, stride=2)\n",
    "        self.batchnorm = nn.BatchNorm1d(64, eps=1e-05, momentum=0.1, affine=True, track_running_stats=True)\n",
    "        self.relu = nn.ReLU(inplace=True)\n",
    "        self.maxpool = nn.MaxPool1d(kernel_size=5, stride=1, padding=1, dilation=1, ceil_mode=False)\n",
    "\n",
    "#         self.finalpool = nn.AdaptiveAvgPool1d(output_size=1)\n",
    "        self.linear = nn.Linear(64*59, 64*30)\n",
    "    \n",
    "        # block 1\n",
    "        self.conv1_1 = nn.Conv1d(64, 128, kernel_size=4, stride=1, padding=1, bias=False)\n",
    "        self.drop1_1 = nn.Dropout(0.2)\n",
    "        self.batchnorm1_1 = nn.BatchNorm1d(128, eps=1e-05, momentum=0.1, affine=True, track_running_stats=True)\n",
    "        self.relu_1 = nn.ReLU(inplace=True)\n",
    "        self.conv2_1 = nn.Conv1d(128, 128, kernel_size=4, stride=1, padding=1, bias=False)\n",
    "        self.batchnorm2_1 = nn.BatchNorm1d(128, eps=1e-05, momentum=0.1, affine=True, track_running_stats=True)\n",
    "        \n",
    "        self.linear1 = nn.Linear(128*28, N, bias=False)\n",
    "\n",
    "    def forward(self, x):\n",
    "        batch_size = x.size(0)\n",
    "        x = x.to(device)\n",
    "        # head\n",
    "        x = self.conv(x)\n",
    "        x = self.batchnorm(x)\n",
    "        x = self.relu(x)\n",
    "        x = self.maxpool(x)\n",
    "\n",
    "        # block 1\n",
    "#         print(x.shape)\n",
    "        x = self.linear(x.view(batch_size, -1)).view(batch_size, 64, -1)\n",
    "        \n",
    "        x = self.conv1_1(x)\n",
    "        x = self.drop1_1(x)\n",
    "        x = self.batchnorm1_1(x)\n",
    "        x = self.relu_1(x)\n",
    "        x = self.conv2_1(x)\n",
    "        x = self.batchnorm2_1(x)\n",
    "#         print(x.shape)\n",
    "        x = self.linear1(x.view(batch_size, -1))\n",
    "            \n",
    "        return x"
   ]
  },
  {
   "cell_type": "code",
   "execution_count": 11,
   "metadata": {},
   "outputs": [
    {
     "data": {
      "text/plain": [
       "FreqSimpleNet(\n",
       "  (conv): Conv1d(1, 64, kernel_size=(7,), stride=(2,))\n",
       "  (batchnorm): BatchNorm1d(64, eps=1e-05, momentum=0.1, affine=True, track_running_stats=True)\n",
       "  (relu): ReLU(inplace=True)\n",
       "  (maxpool): MaxPool1d(kernel_size=5, stride=1, padding=1, dilation=1, ceil_mode=False)\n",
       "  (linear): Linear(in_features=3776, out_features=1920, bias=True)\n",
       "  (conv1_1): Conv1d(64, 128, kernel_size=(4,), stride=(1,), padding=(1,), bias=False)\n",
       "  (drop1_1): Dropout(p=0.2, inplace=False)\n",
       "  (batchnorm1_1): BatchNorm1d(128, eps=1e-05, momentum=0.1, affine=True, track_running_stats=True)\n",
       "  (relu_1): ReLU(inplace=True)\n",
       "  (conv2_1): Conv1d(128, 128, kernel_size=(4,), stride=(1,), padding=(1,), bias=False)\n",
       "  (batchnorm2_1): BatchNorm1d(128, eps=1e-05, momentum=0.1, affine=True, track_running_stats=True)\n",
       "  (linear1): Linear(in_features=3584, out_features=3, bias=False)\n",
       ")"
      ]
     },
     "execution_count": 11,
     "metadata": {},
     "output_type": "execute_result"
    }
   ],
   "source": [
    "net = FreqSimpleNet(3)\n",
    "# net = torchvision.models.resnet34(pretrained=True)\n",
    "# net.fc = nn.Linear(512, 50)\n",
    "# net.conv1 = nn.Conv2d(1, 64, kernel_size=(7, 7), stride=(2, 2), padding=(3, 3), bias=False)\n",
    "net = net.to(device)\n",
    "history = []\n",
    "loss = nn.CrossEntropyLoss()\n",
    "optimizer = optim.Adam(net.parameters(), lr=0.000005)\n",
    "net"
   ]
  },
  {
   "cell_type": "code",
   "execution_count": 12,
   "metadata": {},
   "outputs": [],
   "source": [
    "batch_X, batch_y = next(iter(train_dataloader))\n",
    "net(batch_X);"
   ]
  },
  {
   "cell_type": "code",
   "execution_count": 13,
   "metadata": {},
   "outputs": [],
   "source": [
    "def train_epoch(net, train_dataloader, optimizer, loss):\n",
    "    net.train()\n",
    "    loss_train = []\n",
    "    \n",
    "    for batch_X, batch_y_true in train_dataloader:\n",
    "        batch_X = batch_X.to(device)\n",
    "        batch_y_true = batch_y_true.to(device)\n",
    "        out = net(batch_X)\n",
    "        train_batch_loss = loss(out, batch_y_true)\n",
    "        \n",
    "        optimizer.zero_grad()\n",
    "        train_batch_loss.backward()\n",
    "        optimizer.step()\n",
    "        \n",
    "        loss_train.append(train_batch_loss.item())\n",
    "\n",
    "    return np.array(loss_train).mean()\n",
    "\n",
    "\n",
    "def validate(net, validation_dataloader, loss):\n",
    "    net.eval()\n",
    "    pred = torch.tensor([]).to(device)\n",
    "    true = torch.tensor([]).to(device)\n",
    "    loss_val = []\n",
    "    \n",
    "    for batch_X, batch_y_true in validation_dataloader:\n",
    "        batch_size = batch_X.size(0)\n",
    "        batch_X = batch_X.to(device)\n",
    "        batch_y_true = batch_y_true.to(device)\n",
    "        with torch.no_grad():\n",
    "            out = net(batch_X)\n",
    "            batch_y_pred = out.argmax(axis=1)\n",
    "        pred = torch.cat((pred, batch_y_pred))\n",
    "        true = torch.cat((true, batch_y_true))\n",
    "        \n",
    "        batch_loss = loss(out, batch_y_true)\n",
    "        loss_val.append(batch_loss.item())\n",
    "\n",
    "    acc = accuracy_score(true.cpu(), pred.cpu())\n",
    "    \n",
    "    return acc, np.array(loss_val).mean()"
   ]
  },
  {
   "cell_type": "code",
   "execution_count": 14,
   "metadata": {},
   "outputs": [
    {
     "data": {
      "application/vnd.jupyter.widget-view+json": {
       "model_id": "07ce4a8f4c0f499490fff1c2bd4caa54",
       "version_major": 2,
       "version_minor": 0
      },
      "text/plain": [
       "FigureWidget({\n",
       "    'data': [{'name': 'train loss',\n",
       "              'type': 'scatter',\n",
       "              'uid': '45e2…"
      ]
     },
     "metadata": {},
     "output_type": "display_data"
    },
    {
     "data": {
      "application/vnd.jupyter.widget-view+json": {
       "model_id": "a6ef572e8d4c4b56a5d4a543dd951536",
       "version_major": 2,
       "version_minor": 0
      },
      "text/plain": [
       "HBox(children=(FloatProgress(value=0.0, max=500.0), HTML(value='')))"
      ]
     },
     "metadata": {},
     "output_type": "display_data"
    },
    {
     "name": "stdout",
     "output_type": "stream",
     "text": [
      "\n"
     ]
    }
   ],
   "source": [
    "N_EPOCHS = 500\n",
    "n_val = 2\n",
    "\n",
    "losses_train = []\n",
    "epochs_train = []\n",
    "losses_val = []\n",
    "accs_val = []\n",
    "epochs_val = []\n",
    "\n",
    "fig_loss = make_subplots(\n",
    "    cols=2, rows=1,\n",
    "    subplot_titles=['Loss', 'Accuracy'], column_widths=[0.7, 0.3]\n",
    "    \n",
    ")\n",
    "\n",
    "fig_loss.add_scatter(\n",
    "    y=losses_train, x=epochs_train,\n",
    "    name='train loss', row=1, col=1\n",
    ")\n",
    "fig_loss.add_scatter(\n",
    "    y=losses_val, x=epochs_val,\n",
    "    name='validation loss', row=1, col=1\n",
    ")\n",
    "fig_loss.add_scatter(\n",
    "    y=losses_val, x=epochs_val,\n",
    "    name='validation accuracy', row=1, col=2\n",
    ")\n",
    "fig_loss.update_layout(height=500, width=1300, title_text='FreqNet1d')\n",
    "fig_loss = go.FigureWidget(fig_loss)\n",
    "display(fig_loss)\n",
    "\n",
    "if not os.path.exists(\"models\\\\tmp\\\\1d\"):\n",
    "        os.makedirs(\"models\\\\tmp\\\\1d\")\n",
    "        \n",
    "for epoch in tqdm(range(N_EPOCHS)):\n",
    "#     loss_train = train_epoch(net, train_dataloader, optimizer, loss)\n",
    "    loss_train = train_epoch(net, train_dataloader, optimizer, loss)\n",
    "    losses_train.append(loss_train)\n",
    "    epochs_train.append(epoch)\n",
    "    \n",
    "    if epoch % n_val == 0:\n",
    "        acc, loss_val = validate(net, validation_dataloader, loss)\n",
    "        accs_val.append(acc)\n",
    "        losses_val.append(loss_val)\n",
    "        epochs_val.append(epoch)\n",
    "        \n",
    "    fig_loss.data[0].x = epochs_train\n",
    "    fig_loss.data[0].y = losses_train\n",
    "    \n",
    "    fig_loss.data[1].x = epochs_val\n",
    "    fig_loss.data[1].y = losses_val\n",
    "    \n",
    "    fig_loss.data[2].x = epochs_val\n",
    "    fig_loss.data[2].y = accs_val\n",
    "    \n",
    "    torch.save(net.state_dict(), f\"models\\\\tmp\\\\1d\\\\{epoch}\")"
   ]
  },
  {
   "cell_type": "markdown",
   "metadata": {},
   "source": [
    "We can choose the best model according to the maximu of validation accuracy. The model on different training epochs is saved at tmp\\\\1d.\n",
    "\n",
    "Cross validation is recommended to prevent overfitting to the validation set, but I don't have the resources to do that."
   ]
  },
  {
   "cell_type": "code",
   "execution_count": 23,
   "metadata": {},
   "outputs": [],
   "source": [
    "best_acc_epoch = torch.tensor(accs_val).argmax().item()*2"
   ]
  },
  {
   "cell_type": "code",
   "execution_count": 38,
   "metadata": {},
   "outputs": [
    {
     "data": {
      "text/plain": [
       "FreqSimpleNet(\n",
       "  (conv): Conv1d(1, 64, kernel_size=(7,), stride=(2,))\n",
       "  (batchnorm): BatchNorm1d(64, eps=1e-05, momentum=0.1, affine=True, track_running_stats=True)\n",
       "  (relu): ReLU(inplace=True)\n",
       "  (maxpool): MaxPool1d(kernel_size=5, stride=1, padding=1, dilation=1, ceil_mode=False)\n",
       "  (linear): Linear(in_features=3776, out_features=1920, bias=True)\n",
       "  (conv1_1): Conv1d(64, 128, kernel_size=(4,), stride=(1,), padding=(1,), bias=False)\n",
       "  (drop1_1): Dropout(p=0.2, inplace=False)\n",
       "  (batchnorm1_1): BatchNorm1d(128, eps=1e-05, momentum=0.1, affine=True, track_running_stats=True)\n",
       "  (relu_1): ReLU(inplace=True)\n",
       "  (conv2_1): Conv1d(128, 128, kernel_size=(4,), stride=(1,), padding=(1,), bias=False)\n",
       "  (batchnorm2_1): BatchNorm1d(128, eps=1e-05, momentum=0.1, affine=True, track_running_stats=True)\n",
       "  (linear1): Linear(in_features=3584, out_features=3, bias=False)\n",
       ")"
      ]
     },
     "execution_count": 38,
     "metadata": {},
     "output_type": "execute_result"
    }
   ],
   "source": [
    "net = FreqSimpleNet(3)\n",
    "net.load_state_dict(torch.load(f\"models\\\\tmp\\\\1d\\\\{best_acc_epoch}\"))\n",
    "net.to(device)"
   ]
  },
  {
   "cell_type": "markdown",
   "metadata": {},
   "source": [
    "# Make submission"
   ]
  },
  {
   "cell_type": "code",
   "execution_count": 39,
   "metadata": {},
   "outputs": [
    {
     "data": {
      "text/html": [
       "<div>\n",
       "<style scoped>\n",
       "    .dataframe tbody tr th:only-of-type {\n",
       "        vertical-align: middle;\n",
       "    }\n",
       "\n",
       "    .dataframe tbody tr th {\n",
       "        vertical-align: top;\n",
       "    }\n",
       "\n",
       "    .dataframe thead th {\n",
       "        text-align: right;\n",
       "    }\n",
       "</style>\n",
       "<table border=\"1\" class=\"dataframe\">\n",
       "  <thead>\n",
       "    <tr style=\"text-align: right;\">\n",
       "      <th></th>\n",
       "      <th>wav_path</th>\n",
       "      <th>target</th>\n",
       "    </tr>\n",
       "  </thead>\n",
       "  <tbody>\n",
       "    <tr>\n",
       "      <th>0</th>\n",
       "      <td>val/e/b7cf2c4.wav</td>\n",
       "      <td>0</td>\n",
       "    </tr>\n",
       "    <tr>\n",
       "      <th>1</th>\n",
       "      <td>val/0/8f1489d.wav</td>\n",
       "      <td>0</td>\n",
       "    </tr>\n",
       "    <tr>\n",
       "      <th>2</th>\n",
       "      <td>val/f/14b7304.wav</td>\n",
       "      <td>0</td>\n",
       "    </tr>\n",
       "    <tr>\n",
       "      <th>3</th>\n",
       "      <td>val/2/3763132.wav</td>\n",
       "      <td>0</td>\n",
       "    </tr>\n",
       "    <tr>\n",
       "      <th>4</th>\n",
       "      <td>val/0/51c4271.wav</td>\n",
       "      <td>0</td>\n",
       "    </tr>\n",
       "  </tbody>\n",
       "</table>\n",
       "</div>"
      ],
      "text/plain": [
       "            wav_path  target\n",
       "0  val/e/b7cf2c4.wav       0\n",
       "1  val/0/8f1489d.wav       0\n",
       "2  val/f/14b7304.wav       0\n",
       "3  val/2/3763132.wav       0\n",
       "4  val/0/51c4271.wav       0"
      ]
     },
     "execution_count": 39,
     "metadata": {},
     "output_type": "execute_result"
    }
   ],
   "source": [
    "submit_features = pd.read_csv('sample_submission.csv')\n",
    "submit_features.head()"
   ]
  },
  {
   "cell_type": "code",
   "execution_count": 40,
   "metadata": {},
   "outputs": [],
   "source": [
    "class SubmissionDataset(torch.utils.data.Dataset):\n",
    "    def __init__(self, data):\n",
    "        self.data = []\n",
    "        for filename in tqdm(data[\"wav_path\"], total=len(data)):\n",
    "            self.data.append(filename)\n",
    "        \n",
    "    def __getitem__(self, index):\n",
    "        return process_wav(ROOT_DIR, self.data[index]).unsqueeze(0), self.data[index]\n",
    "    \n",
    "    def __len__(self):\n",
    "        return len(self.data)"
   ]
  },
  {
   "cell_type": "code",
   "execution_count": 41,
   "metadata": {},
   "outputs": [
    {
     "data": {
      "application/vnd.jupyter.widget-view+json": {
       "model_id": "23e61ef890cd48fd897b4550aeda57b0",
       "version_major": 2,
       "version_minor": 0
      },
      "text/plain": [
       "HBox(children=(FloatProgress(value=0.0, max=55200.0), HTML(value='')))"
      ]
     },
     "metadata": {},
     "output_type": "display_data"
    },
    {
     "name": "stdout",
     "output_type": "stream",
     "text": [
      "\n"
     ]
    }
   ],
   "source": [
    "submission_dataset = SubmissionDataset(submit_features)\n",
    "submission_dataloader = torch.utils.data.DataLoader(submission_dataset, batch_size=32, drop_last=False, num_workers=0)"
   ]
  },
  {
   "cell_type": "code",
   "execution_count": 49,
   "metadata": {},
   "outputs": [
    {
     "name": "stdin",
     "output_type": "stream",
     "text": [
      " y\n"
     ]
    }
   ],
   "source": [
    "if input() == 'y':\n",
    "    submission = pd.DataFrame(columns=['wav_path', 'target'])\n",
    "    submission.to_csv('submission-1d.csv', index=False)"
   ]
  },
  {
   "cell_type": "code",
   "execution_count": 50,
   "metadata": {},
   "outputs": [
    {
     "data": {
      "application/vnd.jupyter.widget-view+json": {
       "model_id": "391742f345aa41f0b1eb2df24e82454e",
       "version_major": 2,
       "version_minor": 0
      },
      "text/plain": [
       "HBox(children=(FloatProgress(value=0.0, max=1725.0), HTML(value='')))"
      ]
     },
     "metadata": {},
     "output_type": "display_data"
    },
    {
     "name": "stdout",
     "output_type": "stream",
     "text": [
      "\n"
     ]
    }
   ],
   "source": [
    "net.eval()\n",
    "for batch_X, batch_wav_path in tqdm(submission_dataloader):\n",
    "    batch_X = batch_X.to(device)\n",
    "    with torch.no_grad():\n",
    "        out = net(batch_X)\n",
    "        \n",
    "        batch_y_pred = out.argmax(axis=1).cpu().numpy().astype(int)\n",
    "        batch_submission = pd.DataFrame({'wav_path': batch_wav_path, 'target': batch_y_pred})\n",
    "        batch_submission.to_csv('submission-1d.csv', mode='a', index=False, header=False)"
   ]
  }
 ],
 "metadata": {
  "kernelspec": {
   "display_name": "Python 3",
   "language": "python",
   "name": "python3"
  },
  "language_info": {
   "codemirror_mode": {
    "name": "ipython",
    "version": 3
   },
   "file_extension": ".py",
   "mimetype": "text/x-python",
   "name": "python",
   "nbconvert_exporter": "python",
   "pygments_lexer": "ipython3",
   "version": "3.6.10"
  }
 },
 "nbformat": 4,
 "nbformat_minor": 4
}
