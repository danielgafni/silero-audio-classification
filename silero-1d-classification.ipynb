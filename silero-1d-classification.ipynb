{
 "cells": [
  {
   "cell_type": "code",
   "execution_count": 2,
   "metadata": {},
   "outputs": [],
   "source": [
    "import os\n",
    "import librosa\n",
    "import timeit\n",
    "\n",
    "import torch\n",
    "import torch.nn as nn\n",
    "import torch.optim as optim\n",
    "import torch.nn.functional as F\n",
    "import torchvision\n",
    "if torch.cuda.is_available():\n",
    "    device=torch.device('cuda:0')\n",
    "else:\n",
    "    device=torch.device('cpu')\n",
    "\n",
    "from plotly import graph_objs as go\n",
    "from plotly.subplots import make_subplots\n",
    "from sklearn.model_selection import train_test_split\n",
    "from sklearn.metrics import accuracy_score\n",
    "\n",
    "from tqdm.notebook import tqdm\n",
    "from matplotlib import pyplot as plt\n",
    "import numpy as np\n",
    "import pandas as pd\n",
    "from IPython.display import HTML, Audio, display_html, clear_output\n",
    "sr = 16000\n",
    "batch_size = 32"
   ]
  },
  {
   "cell_type": "markdown",
   "metadata": {},
   "source": [
    "# Load data\n",
    "We are testing the model on 10% of the train data. For this purpose we can load all the data to RAM. Later we will train a model on the full data where we will have to handle data loading inside the DataLoader."
   ]
  },
  {
   "cell_type": "code",
   "execution_count": 3,
   "metadata": {},
   "outputs": [],
   "source": [
    "ROOT_DIR = \"D:\\\\Projects\\\\silero\"\n",
    "PERCENT = 1 # take PERCENT% of the data"
   ]
  },
  {
   "cell_type": "code",
   "execution_count": 4,
   "metadata": {},
   "outputs": [],
   "source": [
    "def load_train_val(ROOT_DIR):\n",
    "    train, val = train_test_split(pd.read_csv(\"train.csv\"))\n",
    "    return train, val"
   ]
  },
  {
   "cell_type": "code",
   "execution_count": 5,
   "metadata": {},
   "outputs": [
    {
     "name": "stdout",
     "output_type": "stream",
     "text": [
      "        Unnamed: 0             wav_path   label  target\n",
      "166503      166503  train/2/9a6002e.wav   music       1\n",
      "8407          8407  train/c/7d50408.wav  speech       0\n",
      "225199      225199  train/a/30802ed.wav   noise       2\n",
      "246018      246018  train/e/e6df66d.wav   music       1\n",
      "2650          2650  train/4/5de80ef.wav   music       1\n",
      "--------------------------------------------------\n",
      "3 target classes found:\n",
      "{1: 'music', 0: 'speech', 2: 'noise'}\n"
     ]
    }
   ],
   "source": [
    "train, val = load_train_val(ROOT_DIR)\n",
    "\n",
    "train = train[:len(train)*PERCENT//100]\n",
    "val = val[:len(val)*PERCENT//100]\n",
    "print(train.head(), end=\"\\n\" + \"-\"*50 + \"\\n\")\n",
    "target_to_text = {elem: name for name, elem in zip(train[\"label\"].unique(), train[\"target\"].unique())}\n",
    "N = len(target_to_text)\n",
    "print(f\"{N} target classes found:\")\n",
    "print(target_to_text)"
   ]
  },
  {
   "cell_type": "code",
   "execution_count": 6,
   "metadata": {},
   "outputs": [],
   "source": [
    "def process_wav(ROOT_DIR, filepath):\n",
    "    path = ROOT_DIR + '\\\\' + filepath\n",
    "    wav, _ = librosa.load(path, sr=sr)\n",
    "    melspec = librosa.feature.melspectrogram(wav, sr=sr)\n",
    "    freq = melspec.sum(axis=1)\n",
    "    freqdb = torch.from_numpy(librosa.power_to_db(freq)).to(device)\n",
    "    mean = freqdb.mean()\n",
    "    std = freqdb.std()\n",
    "    eps = 1e-6\n",
    "    freq_norm = (freqdb - mean) / (std + eps)\n",
    "    freq_min, freq_max = freq_norm.min(), freq_norm.max()\n",
    "    freq_scaled = 255 * (freq_norm - freq_min) / (freq_max - freq_min)\n",
    "    freq = freq_scaled.float().cpu()\n",
    "    return freq"
   ]
  },
  {
   "cell_type": "code",
   "execution_count": null,
   "metadata": {},
   "outputs": [],
   "source": [
    "\n"
   ]
  },
  {
   "cell_type": "code",
   "execution_count": 7,
   "metadata": {},
   "outputs": [
    {
     "data": {
      "image/png": "[encoded data removed]",
      "text/plain": [
       "<Figure size 720x720 with 10 Axes>"
      ]
     },
     "metadata": {
      "needs_background": "light"
     },
     "output_type": "display_data"
    }
   ],
   "source": [
    "fig, ax = plt.subplots(1, 10, figsize=(10, 10))\n",
    "for i, row in enumerate(train.sample(10).values):\n",
    "    filepath, label = row[1], row[2]\n",
    "    freq = process_wav(ROOT_DIR, filepath)\n",
    "    ax[i].imshow(freq.unsqueeze(1))\n",
    "    ax[i].set_title(f\"{label}\")\n",
    "# fig.tight_layout()"
   ]
  },
  {
   "cell_type": "code",
   "execution_count": 8,
   "metadata": {},
   "outputs": [],
   "source": [
    "class FreqDataset(torch.utils.data.Dataset):\n",
    "    def __init__(self, data):\n",
    "        self.data = [[], []]\n",
    "        for filename, target in tqdm(zip(data[\"wav_path\"], data[\"target\"]), total=len(data)):\n",
    "            target_ = torch.tensor(target).long()\n",
    "            freq = process_wav(ROOT_DIR, filename).unsqueeze(0)\n",
    "            self.data[0].append(freq)\n",
    "            self.data[1].append(target_)\n",
    "        \n",
    "    def __getitem__(self, index):\n",
    "        return self.data[0][index], self.data[1][index]\n",
    "    \n",
    "    def __len__(self):\n",
    "        assert len(self.data[0]) == len(self.data[1])\n",
    "        return len(self.data[0])"
   ]
  },
  {
   "cell_type": "code",
   "execution_count": 9,
   "metadata": {},
   "outputs": [
    {
     "data": {
      "application/vnd.jupyter.widget-view+json": {
       "model_id": "076a1c568e3e466786c38d8cbddbecb0",
       "version_major": 2,
       "version_minor": 0
      },
      "text/plain": [
       "HBox(children=(FloatProgress(value=0.0, max=2047.0), HTML(value='')))"
      ]
     },
     "metadata": {},
     "output_type": "display_data"
    },
    {
     "name": "stdout",
     "output_type": "stream",
     "text": [
      "\n"
     ]
    },
    {
     "data": {
      "application/vnd.jupyter.widget-view+json": {
       "model_id": "0ddb0a508cc045e1874c82df97ea1860",
       "version_major": 2,
       "version_minor": 0
      },
      "text/plain": [
       "HBox(children=(FloatProgress(value=0.0, max=682.0), HTML(value='')))"
      ]
     },
     "metadata": {},
     "output_type": "display_data"
    },
    {
     "name": "stdout",
     "output_type": "stream",
     "text": [
      "\n"
     ]
    }
   ],
   "source": [
    "train_dataset = FreqDataset(train)\n",
    "train_dataloader = torch.utils.data.DataLoader(train_dataset, batch_size=32, drop_last=True)\n",
    "validation_dataset = FreqDataset(val)\n",
    "validation_dataloader = torch.utils.data.DataLoader(validation_dataset, batch_size=32, drop_last=True)"
   ]
  },
  {
   "cell_type": "code",
   "execution_count": 10,
   "metadata": {},
   "outputs": [
    {
     "name": "stdout",
     "output_type": "stream",
     "text": [
      "<class 'torch.Tensor'> torch.Size([32, 1, 128])\n",
      "<class 'torch.Tensor'> torch.Size([32])\n"
     ]
    }
   ],
   "source": [
    "batch_X_train, batch_y_train = next(iter(train_dataloader))\n",
    "print(type(batch_X_train), batch_X_train.shape)\n",
    "print(type(batch_y_train), batch_y_train.shape)"
   ]
  },
  {
   "cell_type": "code",
   "execution_count": 11,
   "metadata": {},
   "outputs": [],
   "source": [
    "import torch.nn as nn\n",
    "import torch.nn.functional as F\n",
    "\n",
    "\n",
    "class FreqNet(nn.Module):\n",
    "    def __init__(self, N):\n",
    "        super(FreqNet, self).__init__()\n",
    "        # head\n",
    "        self.conv = nn.Conv1d(1, 64, 4, stride=2)\n",
    "        self.batchnorm = nn.BatchNorm1d(64, eps=1e-05, momentum=0.1, affine=True, track_running_stats=True)\n",
    "        self.relu = nn.ReLU(inplace=True)\n",
    "        self.maxpool = nn.MaxPool1d(kernel_size=4, stride=2, padding=1, dilation=1, ceil_mode=False)\n",
    "\n",
    "        # block 1\n",
    "        self.conv1_1 = nn.Conv1d(64, 64, kernel_size=3, stride=1, padding=1, bias=False)\n",
    "        self.drop1_1 = nn.Dropout(0.2)\n",
    "        self.batchnorm1_1 = nn.BatchNorm1d(64, eps=1e-05, momentum=0.1, affine=True, track_running_stats=True)\n",
    "        self.relu_1 = nn.ReLU(inplace=True)\n",
    "        self.conv2_1 = nn.Conv1d(64, 64, kernel_size=3, stride=1, padding=1, bias=False)\n",
    "        self.batchnorm2_1 = nn.BatchNorm1d(64, eps=1e-05, momentum=0.1, affine=True, track_running_stats=True)\n",
    "\n",
    "        # block 2\n",
    "        self.conv1_2 = nn.Conv1d(64, 128, kernel_size=3, stride=1, padding=1, bias=False)\n",
    "        self.drop1_2 = nn.Dropout(0.2)\n",
    "        self.batchnorm1_2 = nn.BatchNorm1d(128, eps=1e-05, momentum=0.1, affine=True, track_running_stats=True)\n",
    "        self.relu_2 = nn.ReLU(inplace=True)\n",
    "        self.conv2_2 = nn.Conv1d(128, 128, kernel_size=3, stride=1, padding=1, bias=False)\n",
    "        self.batchnorm2_2 = nn.BatchNorm1d(128, eps=1e-05, momentum=0.1, affine=True, track_running_stats=True)\n",
    "        self.conv3_2 = nn.Conv1d(64, 128, kernel_size=1, stride=2, padding=1, bias=False)\n",
    "        self.batchnorm2_2 = nn.BatchNorm1d(128, eps=1e-05, momentum=0.1, affine=True, track_running_stats=True)\n",
    "\n",
    "#         # block 3\n",
    "#         self.conv1_3 = nn.Conv1d(128, 256, kernel_size=3, stride=1, padding=1, bias=False)\n",
    "#         self.drop1_3 = nn.Dropout(0.2)\n",
    "#         self.batchnorm1_3 = nn.BatchNorm1d(256, eps=1e-05, momentum=0.1, affine=True, track_running_stats=True)\n",
    "#         self.relu_3 = nn.ReLU(inplace=True)\n",
    "#         self.conv2_3 = nn.Conv1d(256, 256, kernel_size=3, stride=1, padding=1, bias=False)\n",
    "#         self.batchnorm2_3 = nn.BatchNorm1d(256, eps=1e-05, momentum=0.1, affine=True, track_running_stats=True)\n",
    "#         self.conv3_3 = nn.Conv2d(128, 256, kernel_size=1, stride=2, padding=1, bias=False)\n",
    "#         self.batchnorm2_3 = nn.BatchNorm1d(256, eps=1e-05, momentum=0.1, affine=True, track_running_stats=True)\n",
    "        \n",
    "        # block 3\n",
    "#         self.conv1_4 = nn.Conv1d(256, 512, kernel_size=3, stride=1, padding=1, bias=False)\n",
    "#         self.drop1_4 = nn.Dropout(0.2)\n",
    "#         self.batchnorm1_4 = nn.BatchNorm1d(512, eps=1e-05, momentum=0.1, affine=True, track_running_stats=True)\n",
    "#         self.relu_4 = nn.ReLU(inplace=True)\n",
    "#         self.conv2_4 = nn.Conv1d(512, 512, kernel_size=3, stride=1, padding=1, bias=False)\n",
    "#         self.batchnorm2_4 = nn.BatchNorm1d(512, eps=1e-05, momentum=0.1, affine=True, track_running_stats=True)\n",
    "#         self.conv3_4 = nn.Conv2d(256, 512, kernel_size=1, stride=2, padding=1, bias=False)\n",
    "#         self.batchnorm2_4 = nn.BatchNorm1d(512, eps=1e-05, momentum=0.1, affine=True, track_running_stats=True)\n",
    "\n",
    "        self.finalpool = nn.AdaptiveAvgPool1d(output_size=1)\n",
    "        self.linear = nn.Linear(128, N, bias=False)\n",
    "\n",
    "    def forward(self, x):\n",
    "        batch_size = x.size(0)\n",
    "        x = x.to(device)\n",
    "        # head\n",
    "        x = self.conv(x)\n",
    "        x = self.batchnorm(x)\n",
    "        x = self.relu(x)\n",
    "        x = self.maxpool(x)\n",
    "\n",
    "        # block 1\n",
    "        x_remember = x.clone()\n",
    "        x = self.conv1_1(x)\n",
    "        x = self.drop1_1(x)\n",
    "        x = self.batchnorm1_1(x)\n",
    "        x = self.relu_1(x)\n",
    "        x = self.conv2_1(x)\n",
    "        x = self.batchnorm2_1(x)\n",
    "        \n",
    "        x = x + x_remember\n",
    "        x = F.relu(x)\n",
    "\n",
    "        # block 2\n",
    "        x_remember = x.clone()\n",
    "        x = self.conv1_2(x)\n",
    "        x = self.drop1_2(x)\n",
    "        x = self.batchnorm1_2(x)\n",
    "        x = self.relu_2(x)\n",
    "        x = self.conv2_2(x)\n",
    "        x = self.batchnorm2_2(x)\n",
    "        x = x + F.pad(x_remember, [0, 0, 32, 32, 0, 0])\n",
    "        x = F.relu(x)\n",
    "\n",
    "#         # block 3\n",
    "#         x_remember = x.clone()\n",
    "#         x = self.conv1_3(x)\n",
    "#         x = self.drop1_3(x)\n",
    "#         x = self.batchnorm1_3(x)\n",
    "#         x = self.relu_3(x)\n",
    "#         x = self.conv2_3(x)\n",
    "#         x = self.batchnorm2_3(x)\n",
    "#         x = x + F.pad(x_remember, [0, 0, 64, 64, 0, 0])\n",
    "#         x = F.relu(x)\n",
    "        \n",
    "        # block 4\n",
    "#         x_remember = x.clone()\n",
    "#         x = self.conv1_4(x)\n",
    "#         x = self.drop1_4(x)\n",
    "#         x = self.batchnorm1_4(x)\n",
    "#         x = self.relu_4(x)\n",
    "#         x = self.conv2_4(x)\n",
    "#         x = self.batchnorm2_4(x)\n",
    "#         x = x + F.pad(x_remember, [0, 0, 128, 128, 0, 0])\n",
    "#         x = F.relu(x)\n",
    "\n",
    "        # end\n",
    "        x = self.finalpool(x)\n",
    "        #         print(x.shape)\n",
    "        x = self.linear(x.view(batch_size, -1))\n",
    "        #         x = F.log_softmax(x, dim=1)\n",
    "\n",
    "        return x\n",
    "    \n",
    "\n",
    "import torch.nn as nn\n",
    "import torch.nn.functional as F\n",
    "\n",
    "\n",
    "class FreqSimpleNet(nn.Module):\n",
    "    def __init__(self, N):\n",
    "        super(FreqSimpleNet, self).__init__()\n",
    "        # head\n",
    "        self.conv = nn.Conv1d(1, 64, 7, stride=2)\n",
    "        self.batchnorm = nn.BatchNorm1d(64, eps=1e-05, momentum=0.1, affine=True, track_running_stats=True)\n",
    "        self.relu = nn.ReLU(inplace=True)\n",
    "        self.maxpool = nn.MaxPool1d(kernel_size=5, stride=1, padding=1, dilation=1, ceil_mode=False)\n",
    "\n",
    "#         self.finalpool = nn.AdaptiveAvgPool1d(output_size=1)\n",
    "        self.linear = nn.Linear(64*59, 64*30)\n",
    "    \n",
    "        # block 1\n",
    "        self.conv1_1 = nn.Conv1d(64, 128, kernel_size=4, stride=1, padding=1, bias=False)\n",
    "        self.drop1_1 = nn.Dropout(0.2)\n",
    "        self.batchnorm1_1 = nn.BatchNorm1d(128, eps=1e-05, momentum=0.1, affine=True, track_running_stats=True)\n",
    "        self.relu_1 = nn.ReLU(inplace=True)\n",
    "        self.conv2_1 = nn.Conv1d(128, 128, kernel_size=4, stride=1, padding=1, bias=False)\n",
    "        self.batchnorm2_1 = nn.BatchNorm1d(128, eps=1e-05, momentum=0.1, affine=True, track_running_stats=True)\n",
    "        \n",
    "        self.linear1 = nn.Linear(128*28, N, bias=False)\n",
    "\n",
    "    def forward(self, x):\n",
    "        batch_size = x.size(0)\n",
    "        x = x.to(device)\n",
    "        # head\n",
    "        x = self.conv(x)\n",
    "        x = self.batchnorm(x)\n",
    "        x = self.relu(x)\n",
    "        x = self.maxpool(x)\n",
    "\n",
    "        # block 1\n",
    "#         print(x.shape)\n",
    "        x = self.linear(x.view(batch_size, -1)).view(batch_size, 64, -1)\n",
    "        \n",
    "        x = self.conv1_1(x)\n",
    "        x = self.drop1_1(x)\n",
    "        x = self.batchnorm1_1(x)\n",
    "        x = self.relu_1(x)\n",
    "        x = self.conv2_1(x)\n",
    "        x = self.batchnorm2_1(x)\n",
    "#         print(x.shape)\n",
    "        x = self.linear1(x.view(batch_size, -1))\n",
    "            \n",
    "        return x"
   ]
  },
  {
   "cell_type": "code",
   "execution_count": 20,
   "metadata": {},
   "outputs": [
    {
     "data": {
      "text/plain": [
       "FreqSimpleNet(\n",
       "  (conv): Conv1d(1, 64, kernel_size=(7,), stride=(2,))\n",
       "  (batchnorm): BatchNorm1d(64, eps=1e-05, momentum=0.1, affine=True, track_running_stats=True)\n",
       "  (relu): ReLU(inplace=True)\n",
       "  (maxpool): MaxPool1d(kernel_size=5, stride=1, padding=1, dilation=1, ceil_mode=False)\n",
       "  (linear): Linear(in_features=3776, out_features=1920, bias=True)\n",
       "  (conv1_1): Conv1d(64, 128, kernel_size=(4,), stride=(1,), padding=(1,), bias=False)\n",
       "  (drop1_1): Dropout(p=0.2, inplace=False)\n",
       "  (batchnorm1_1): BatchNorm1d(128, eps=1e-05, momentum=0.1, affine=True, track_running_stats=True)\n",
       "  (relu_1): ReLU(inplace=True)\n",
       "  (conv2_1): Conv1d(128, 128, kernel_size=(4,), stride=(1,), padding=(1,), bias=False)\n",
       "  (batchnorm2_1): BatchNorm1d(128, eps=1e-05, momentum=0.1, affine=True, track_running_stats=True)\n",
       "  (linear1): Linear(in_features=3584, out_features=3, bias=False)\n",
       ")"
      ]
     },
     "execution_count": 20,
     "metadata": {},
     "output_type": "execute_result"
    }
   ],
   "source": [
    "net = FreqSimpleNet(3)\n",
    "# net = torchvision.models.resnet34(pretrained=True)\n",
    "# net.fc = nn.Linear(512, 50)\n",
    "# net.conv1 = nn.Conv2d(1, 64, kernel_size=(7, 7), stride=(2, 2), padding=(3, 3), bias=False)\n",
    "net = net.to(device)\n",
    "history = []\n",
    "loss = nn.CrossEntropyLoss()\n",
    "optimizer = optim.Adam(net.parameters(), lr=0.000005)\n",
    "net"
   ]
  },
  {
   "cell_type": "code",
   "execution_count": 21,
   "metadata": {},
   "outputs": [],
   "source": [
    "batch_X, batch_y = next(iter(train_dataloader))\n",
    "net(batch_X);"
   ]
  },
  {
   "cell_type": "code",
   "execution_count": 22,
   "metadata": {},
   "outputs": [],
   "source": [
    "def train_epoch(net, train_dataloader, optimizer, loss):\n",
    "    net.train()\n",
    "    loss_train = []\n",
    "    \n",
    "    for batch_X, batch_y_true in train_dataloader:\n",
    "        batch_X = batch_X.to(device)\n",
    "        batch_y_true = batch_y_true.to(device)\n",
    "        out = net(batch_X)\n",
    "        train_batch_loss = loss(out, batch_y_true)\n",
    "        \n",
    "        optimizer.zero_grad()\n",
    "        train_batch_loss.backward()\n",
    "        optimizer.step()\n",
    "        \n",
    "        loss_train.append(train_batch_loss.item())\n",
    "\n",
    "    return np.array(loss_train).mean()\n",
    "\n",
    "\n",
    "def validate(net, validation_dataloader, loss):\n",
    "    net.eval()\n",
    "    pred = torch.tensor([]).to(device)\n",
    "    true = torch.tensor([]).to(device)\n",
    "    loss_val = []\n",
    "    \n",
    "    for batch_X, batch_y_true in validation_dataloader:\n",
    "        batch_size = batch_X.size(0)\n",
    "        batch_X = batch_X.to(device)\n",
    "        batch_y_true = batch_y_true.to(device)\n",
    "        with torch.no_grad():\n",
    "            out = net(batch_X)\n",
    "            batch_y_pred = out.argmax(axis=1)\n",
    "        pred = torch.cat((pred, batch_y_pred))\n",
    "        true = torch.cat((true, batch_y_true))\n",
    "        \n",
    "        batch_loss = loss(out, batch_y_true)\n",
    "        loss_val.append(batch_loss.item())\n",
    "\n",
    "    acc = accuracy_score(true.cpu(), pred.cpu())\n",
    "    \n",
    "    return acc, np.array(loss_val).mean()"
   ]
  },
  {
   "cell_type": "code",
   "execution_count": 23,
   "metadata": {},
   "outputs": [
    {
     "data": {
      "application/vnd.jupyter.widget-view+json": {
       "model_id": "45af1442463e4f0b8e648fa135974b7c",
       "version_major": 2,
       "version_minor": 0
      },
      "text/plain": [
       "FigureWidget({\n",
       "    'data': [{'name': 'train loss',\n",
       "              'type': 'scatter',\n",
       "              'uid': '1ca3…"
      ]
     },
     "metadata": {},
     "output_type": "display_data"
    },
    {
     "data": {
      "application/vnd.jupyter.widget-view+json": {
       "model_id": "1afae7e8b6a94864ab0e84d9d76fe7ec",
       "version_major": 2,
       "version_minor": 0
      },
      "text/plain": [
       "HBox(children=(FloatProgress(value=0.0, max=500.0), HTML(value='')))"
      ]
     },
     "metadata": {},
     "output_type": "display_data"
    },
    {
     "name": "stdout",
     "output_type": "stream",
     "text": [
      "\n"
     ]
    },
    {
     "ename": "RuntimeError",
     "evalue": "[enforce fail at ..\\caffe2\\serialize\\inline_container.cc:262] . unexpected pos 4096 vs 3984",
     "output_type": "error",
     "traceback": [
      "\u001b[1;31m---------------------------------------------------------------------------\u001b[0m",
      "\u001b[1;31mOSError\u001b[0m                                   Traceback (most recent call last)",
      "\u001b[1;32mD:\\Programs\\Anaconda3\\envs\\silero\\lib\\site-packages\\torch\\serialization.py\u001b[0m in \u001b[0;36msave\u001b[1;34m(obj, f, pickle_module, pickle_protocol, _use_new_zipfile_serialization)\u001b[0m\n\u001b[0;32m    363\u001b[0m             \u001b[1;32mwith\u001b[0m \u001b[0m_open_zipfile_writer\u001b[0m\u001b[1;33m(\u001b[0m\u001b[0mopened_file\u001b[0m\u001b[1;33m)\u001b[0m \u001b[1;32mas\u001b[0m \u001b[0mopened_zipfile\u001b[0m\u001b[1;33m:\u001b[0m\u001b[1;33m\u001b[0m\u001b[1;33m\u001b[0m\u001b[0m\n\u001b[1;32m--> 364\u001b[1;33m                 \u001b[0m_save\u001b[0m\u001b[1;33m(\u001b[0m\u001b[0mobj\u001b[0m\u001b[1;33m,\u001b[0m \u001b[0mopened_zipfile\u001b[0m\u001b[1;33m,\u001b[0m \u001b[0mpickle_module\u001b[0m\u001b[1;33m,\u001b[0m \u001b[0mpickle_protocol\u001b[0m\u001b[1;33m)\u001b[0m\u001b[1;33m\u001b[0m\u001b[1;33m\u001b[0m\u001b[0m\n\u001b[0m\u001b[0;32m    365\u001b[0m                 \u001b[1;32mreturn\u001b[0m\u001b[1;33m\u001b[0m\u001b[1;33m\u001b[0m\u001b[0m\n",
      "\u001b[1;32mD:\\Programs\\Anaconda3\\envs\\silero\\lib\\site-packages\\torch\\serialization.py\u001b[0m in \u001b[0;36m_save\u001b[1;34m(obj, zip_file, pickle_module, pickle_protocol)\u001b[0m\n\u001b[0;32m    482\u001b[0m             \u001b[0mbuf_value\u001b[0m \u001b[1;33m=\u001b[0m \u001b[0mbuf\u001b[0m\u001b[1;33m.\u001b[0m\u001b[0mgetvalue\u001b[0m\u001b[1;33m(\u001b[0m\u001b[1;33m)\u001b[0m\u001b[1;33m\u001b[0m\u001b[1;33m\u001b[0m\u001b[0m\n\u001b[1;32m--> 483\u001b[1;33m             \u001b[0mzip_file\u001b[0m\u001b[1;33m.\u001b[0m\u001b[0mwrite_record\u001b[0m\u001b[1;33m(\u001b[0m\u001b[0mname\u001b[0m\u001b[1;33m,\u001b[0m \u001b[0mbuf_value\u001b[0m\u001b[1;33m,\u001b[0m \u001b[0mlen\u001b[0m\u001b[1;33m(\u001b[0m\u001b[0mbuf_value\u001b[0m\u001b[1;33m)\u001b[0m\u001b[1;33m)\u001b[0m\u001b[1;33m\u001b[0m\u001b[1;33m\u001b[0m\u001b[0m\n\u001b[0m\u001b[0;32m    484\u001b[0m \u001b[1;33m\u001b[0m\u001b[0m\n",
      "\u001b[1;31mOSError\u001b[0m: [Errno 28] No space left on device",
      "\nDuring handling of the above exception, another exception occurred:\n",
      "\u001b[1;31mRuntimeError\u001b[0m                              Traceback (most recent call last)",
      "\u001b[1;32m<ipython-input-23-310825c2efb8>\u001b[0m in \u001b[0;36m<module>\u001b[1;34m\u001b[0m\n\u001b[0;32m     54\u001b[0m     \u001b[0mfig_loss\u001b[0m\u001b[1;33m.\u001b[0m\u001b[0mdata\u001b[0m\u001b[1;33m[\u001b[0m\u001b[1;36m2\u001b[0m\u001b[1;33m]\u001b[0m\u001b[1;33m.\u001b[0m\u001b[0my\u001b[0m \u001b[1;33m=\u001b[0m \u001b[0maccs_val\u001b[0m\u001b[1;33m\u001b[0m\u001b[1;33m\u001b[0m\u001b[0m\n\u001b[0;32m     55\u001b[0m \u001b[1;33m\u001b[0m\u001b[0m\n\u001b[1;32m---> 56\u001b[1;33m     \u001b[0mtorch\u001b[0m\u001b[1;33m.\u001b[0m\u001b[0msave\u001b[0m\u001b[1;33m(\u001b[0m\u001b[0mnet\u001b[0m\u001b[1;33m.\u001b[0m\u001b[0mstate_dict\u001b[0m\u001b[1;33m(\u001b[0m\u001b[1;33m)\u001b[0m\u001b[1;33m,\u001b[0m \u001b[1;34mf\"models\\\\tmp\\\\1d\\\\{epoch}\"\u001b[0m\u001b[1;33m)\u001b[0m\u001b[1;33m\u001b[0m\u001b[1;33m\u001b[0m\u001b[0m\n\u001b[0m",
      "\u001b[1;32mD:\\Programs\\Anaconda3\\envs\\silero\\lib\\site-packages\\torch\\serialization.py\u001b[0m in \u001b[0;36msave\u001b[1;34m(obj, f, pickle_module, pickle_protocol, _use_new_zipfile_serialization)\u001b[0m\n\u001b[0;32m    363\u001b[0m             \u001b[1;32mwith\u001b[0m \u001b[0m_open_zipfile_writer\u001b[0m\u001b[1;33m(\u001b[0m\u001b[0mopened_file\u001b[0m\u001b[1;33m)\u001b[0m \u001b[1;32mas\u001b[0m \u001b[0mopened_zipfile\u001b[0m\u001b[1;33m:\u001b[0m\u001b[1;33m\u001b[0m\u001b[1;33m\u001b[0m\u001b[0m\n\u001b[0;32m    364\u001b[0m                 \u001b[0m_save\u001b[0m\u001b[1;33m(\u001b[0m\u001b[0mobj\u001b[0m\u001b[1;33m,\u001b[0m \u001b[0mopened_zipfile\u001b[0m\u001b[1;33m,\u001b[0m \u001b[0mpickle_module\u001b[0m\u001b[1;33m,\u001b[0m \u001b[0mpickle_protocol\u001b[0m\u001b[1;33m)\u001b[0m\u001b[1;33m\u001b[0m\u001b[1;33m\u001b[0m\u001b[0m\n\u001b[1;32m--> 365\u001b[1;33m                 \u001b[1;32mreturn\u001b[0m\u001b[1;33m\u001b[0m\u001b[1;33m\u001b[0m\u001b[0m\n\u001b[0m\u001b[0;32m    366\u001b[0m         \u001b[0m_legacy_save\u001b[0m\u001b[1;33m(\u001b[0m\u001b[0mobj\u001b[0m\u001b[1;33m,\u001b[0m \u001b[0mopened_file\u001b[0m\u001b[1;33m,\u001b[0m \u001b[0mpickle_module\u001b[0m\u001b[1;33m,\u001b[0m \u001b[0mpickle_protocol\u001b[0m\u001b[1;33m)\u001b[0m\u001b[1;33m\u001b[0m\u001b[1;33m\u001b[0m\u001b[0m\n\u001b[0;32m    367\u001b[0m \u001b[1;33m\u001b[0m\u001b[0m\n",
      "\u001b[1;32mD:\\Programs\\Anaconda3\\envs\\silero\\lib\\site-packages\\torch\\serialization.py\u001b[0m in \u001b[0;36m__exit__\u001b[1;34m(self, *args)\u001b[0m\n\u001b[0;32m    256\u001b[0m \u001b[1;33m\u001b[0m\u001b[0m\n\u001b[0;32m    257\u001b[0m     \u001b[1;32mdef\u001b[0m \u001b[0m__exit__\u001b[0m\u001b[1;33m(\u001b[0m\u001b[0mself\u001b[0m\u001b[1;33m,\u001b[0m \u001b[1;33m*\u001b[0m\u001b[0margs\u001b[0m\u001b[1;33m)\u001b[0m\u001b[1;33m:\u001b[0m\u001b[1;33m\u001b[0m\u001b[1;33m\u001b[0m\u001b[0m\n\u001b[1;32m--> 258\u001b[1;33m         \u001b[0mself\u001b[0m\u001b[1;33m.\u001b[0m\u001b[0mfile_like\u001b[0m\u001b[1;33m.\u001b[0m\u001b[0mwrite_end_of_file\u001b[0m\u001b[1;33m(\u001b[0m\u001b[1;33m)\u001b[0m\u001b[1;33m\u001b[0m\u001b[1;33m\u001b[0m\u001b[0m\n\u001b[0m\u001b[0;32m    259\u001b[0m         \u001b[0mself\u001b[0m\u001b[1;33m.\u001b[0m\u001b[0mbuffer\u001b[0m\u001b[1;33m.\u001b[0m\u001b[0mflush\u001b[0m\u001b[1;33m(\u001b[0m\u001b[1;33m)\u001b[0m\u001b[1;33m\u001b[0m\u001b[1;33m\u001b[0m\u001b[0m\n\u001b[0;32m    260\u001b[0m \u001b[1;33m\u001b[0m\u001b[0m\n",
      "\u001b[1;31mRuntimeError\u001b[0m: [enforce fail at ..\\caffe2\\serialize\\inline_container.cc:262] . unexpected pos 4096 vs 3984"
     ]
    }
   ],
   "source": [
    "N_EPOCHS = 500\n",
    "n_val = 2\n",
    "\n",
    "losses_train = []\n",
    "epochs_train = []\n",
    "losses_val = []\n",
    "accs_val = []\n",
    "epochs_val = []\n",
    "\n",
    "fig_loss = make_subplots(\n",
    "    cols=2, rows=1,\n",
    "    subplot_titles=['Loss', 'Accuracy'], column_widths=[0.7, 0.3]\n",
    "    \n",
    ")\n",
    "\n",
    "fig_loss.add_scatter(\n",
    "    y=losses_train, x=epochs_train,\n",
    "    name='train loss', row=1, col=1\n",
    ")\n",
    "fig_loss.add_scatter(\n",
    "    y=losses_val, x=epochs_val,\n",
    "    name='validation loss', row=1, col=1\n",
    ")\n",
    "fig_loss.add_scatter(\n",
    "    y=losses_val, x=epochs_val,\n",
    "    name='validation accuracy', row=1, col=2\n",
    ")\n",
    "fig_loss.update_layout(height=500, width=1300, title_text='FreqNet1d')\n",
    "fig_loss = go.FigureWidget(fig_loss)\n",
    "display(fig_loss)\n",
    "\n",
    "if not os.path.exists(\"models\\\\tmp\\\\1d\"):\n",
    "        os.makedirs(\"models\\\\tmp\\\\1d\")\n",
    "        \n",
    "for epoch in tqdm(range(N_EPOCHS)):\n",
    "#     loss_train = train_epoch(net, train_dataloader, optimizer, loss)\n",
    "    loss_train = train_epoch(net, train_dataloader, optimizer, loss)\n",
    "    losses_train.append(loss_train)\n",
    "    epochs_train.append(epoch)\n",
    "    \n",
    "    if epoch % n_val == 0:\n",
    "        acc, loss_val = validate(net, validation_dataloader, loss)\n",
    "        accs_val.append(acc)\n",
    "        losses_val.append(loss_val)\n",
    "        epochs_val.append(epoch)\n",
    "        \n",
    "    fig_loss.data[0].x = epochs_train\n",
    "    fig_loss.data[0].y = losses_train\n",
    "    \n",
    "    fig_loss.data[1].x = epochs_val\n",
    "    fig_loss.data[1].y = losses_val\n",
    "    \n",
    "    fig_loss.data[2].x = epochs_val\n",
    "    fig_loss.data[2].y = accs_val\n",
    "    \n",
    "    torch.save(net.state_dict(), f\"models\\\\tmp\\\\1d\\\\{epoch}\")"
   ]
  },
  {
   "cell_type": "code",
   "execution_count": null,
   "metadata": {},
   "outputs": [],
   "source": [
    "validate(net, validation_dataloader)"
   ]
  },
  {
   "cell_type": "code",
   "execution_count": 27,
   "metadata": {},
   "outputs": [
    {
     "data": {
      "text/plain": [
       "device(type='cuda', index=0)"
      ]
     },
     "execution_count": 27,
     "metadata": {},
     "output_type": "execute_result"
    }
   ],
   "source": [
    "device"
   ]
  },
  {
   "cell_type": "code",
   "execution_count": null,
   "metadata": {},
   "outputs": [],
   "source": []
  }
 ],
 "metadata": {
  "kernelspec": {
   "display_name": "Python 3",
   "language": "python",
   "name": "python3"
  },
  "language_info": {
   "codemirror_mode": {
    "name": "ipython",
    "version": 3
   },
   "file_extension": ".py",
   "mimetype": "text/x-python",
   "name": "python",
   "nbconvert_exporter": "python",
   "pygments_lexer": "ipython3",
   "version": "3.6.10"
  }
 },
 "nbformat": 4,
 "nbformat_minor": 4
}
